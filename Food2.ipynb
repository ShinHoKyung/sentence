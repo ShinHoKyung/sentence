{
 "cells": [
  {
   "cell_type": "code",
   "execution_count": 2,
   "metadata": {},
   "outputs": [],
   "source": [
    "import re\n",
    "import json"
   ]
  },
  {
   "cell_type": "code",
   "execution_count": 3,
   "metadata": {},
   "outputs": [
    {
     "name": "stdout",
     "output_type": "stream",
     "text": [
      "fin\n"
     ]
    }
   ],
   "source": [
    "def load_data(fpath):\n",
    "    data = []\n",
    "    with open(fpath) as json_file:\n",
    "        json_data = json.load(json_file)\n",
    "        for i in range(0,len(json_data)):\n",
    "            string = json_data[i][\"sentence\"]\n",
    "            string = re.sub(r\"[^A-Za-z0-9(),!?\\'\\`]\", \" \", string)\n",
    "            string = re.sub(r\"\\'s\", \" \\'s\", string)\n",
    "            string = re.sub(r\"\\'ve\", \" \\'ve\", string)\n",
    "            string = re.sub(r\"n\\'t\", \" n\\'t\", string)\n",
    "            string = re.sub(r\"\\'re\", \" \\'re\", string)\n",
    "            string = re.sub(r\"\\'d\", \" \\'d\", string)\n",
    "            string = re.sub(r\"\\'ll\", \" \\'ll\", string)\n",
    "            string = re.sub(r\",\", \" , \", string)            \n",
    "            string = re.sub(r\"!\", \" ! \", string)\n",
    "            string = re.sub(r\"\\(\", \" \\( \", string)\n",
    "            string = re.sub(r\"\\)\", \" \\) \", string)\n",
    "            string = re.sub(r\"\\?\", \" \\? \", string)\n",
    "            string = re.sub(r\"\\s{2,}\", \" \", string)\n",
    "            string = string.rstrip()\n",
    "            data.append((string.split(' '),json_data[i][\"aspect\"]))\n",
    "    return data\n",
    "data = load_data('./dataset/atsa_test.json')\n",
    "def parse_label(label):\n",
    "    label_data = []\n",
    "    string = label\n",
    "    string = re.sub(r\"[^A-Za-z0-9(),!?\\'\\`]\", \" \", string)\n",
    "    string = re.sub(r\"\\'s\", \" \\'s\", string)\n",
    "    string = re.sub(r\"\\'ve\", \" \\'ve\", string)\n",
    "    string = re.sub(r\"n\\'t\", \" n\\'t\", string)\n",
    "    string = re.sub(r\"\\'re\", \" \\'re\", string)\n",
    "    string = re.sub(r\"\\'d\", \" \\'d\", string)\n",
    "    string = re.sub(r\"\\'ll\", \" \\'ll\", string)\n",
    "    string = re.sub(r\",\", \" , \", string)            \n",
    "    string = re.sub(r\"!\", \" ! \", string)\n",
    "    string = re.sub(r\"\\(\", \" \\( \", string)\n",
    "    string = re.sub(r\"\\)\", \" \\) \", string)        \n",
    "    string = re.sub(r\"\\?\", \" \\? \", string)\n",
    "    string = re.sub(r\"\\s{2,}\", \" \", string)\n",
    "    string = string.rstrip()\n",
    "    label_data.append((string.split(' ')))\n",
    "    return label_data\n",
    "f = open(\"test_data.txt\",\"w\")\n",
    "for sentence,label in data[:]:\n",
    "    label_data = parse_label(label)\n",
    "    num_list = []\n",
    "    string1 = \"\"\n",
    "    string2 = \"\"\n",
    "    for i in range(0,len(sentence)):\n",
    "        num_list.append(0)\n",
    "    #print(label_data)\n",
    "    index = sentence.index(label_data[0][0])\n",
    "    for i in range(index,index+len(label_data[0])):\n",
    "        num_list[i] = 1\n",
    "    f.write(label+\"\\n\")\n",
    "    for i in range(0,len(sentence)):\n",
    "        string1 = string1+sentence[i]\n",
    "        string1 = string1+ \" \"\n",
    "        string2 = string2+str(num_list[i])\n",
    "        string2 = string2+ \" \"\n",
    "    f.write(string1+\"\\n\")\n",
    "    f.write(string2+\"\\n\\n\\n\")\n",
    "print(\"fin\")\n",
    "        \n",
    "    "
   ]
  },
  {
   "cell_type": "code",
   "execution_count": null,
   "metadata": {},
   "outputs": [],
   "source": []
  },
  {
   "cell_type": "code",
   "execution_count": null,
   "metadata": {},
   "outputs": [],
   "source": []
  }
 ],
 "metadata": {
  "kernelspec": {
   "display_name": "Python 3",
   "language": "python",
   "name": "python3"
  },
  "language_info": {
   "codemirror_mode": {
    "name": "ipython",
    "version": 3
   },
   "file_extension": ".py",
   "mimetype": "text/x-python",
   "name": "python",
   "nbconvert_exporter": "python",
   "pygments_lexer": "ipython3",
   "version": "3.6.5"
  }
 },
 "nbformat": 4,
 "nbformat_minor": 2
}
